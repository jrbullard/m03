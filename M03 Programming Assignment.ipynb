{
 "cells": [
  {
   "cell_type": "code",
   "execution_count": 25,
   "metadata": {},
   "outputs": [
    {
     "name": "stdout",
     "output_type": "stream",
     "text": [
      "MOZZARELLA CINDERELLA\n"
     ]
    }
   ],
   "source": [
    "things = [\"mozzarella\", \"cinderella\"]\n",
    "print (things[0].upper(),things[1].upper() )"
   ]
  },
  {
   "cell_type": "code",
   "execution_count": 26,
   "metadata": {},
   "outputs": [],
   "source": [
    "def good():\n",
    "    names = ['Harry', 'Ron', 'Hermione']\n",
    "    return names"
   ]
  },
  {
   "cell_type": "code",
   "execution_count": 27,
   "metadata": {},
   "outputs": [
    {
     "name": "stdout",
     "output_type": "stream",
     "text": [
      "5\n"
     ]
    }
   ],
   "source": [
    "def get_odds():\n",
    "    odds = []\n",
    "    x = range(10)\n",
    "    for n in x:\n",
    "        if (n % 2 != 0):\n",
    "            odds.append(n)\n",
    "    count = 0\n",
    "    for n in odds:\n",
    "        count += 1\n",
    "        if (count == 3):\n",
    "            print (n)"
   ]
  }
 ],
 "metadata": {
  "kernelspec": {
   "display_name": "Python 3",
   "language": "python",
   "name": "python3"
  },
  "language_info": {
   "codemirror_mode": {
    "name": "ipython",
    "version": 3
   },
   "file_extension": ".py",
   "mimetype": "text/x-python",
   "name": "python",
   "nbconvert_exporter": "python",
   "pygments_lexer": "ipython3",
   "version": "3.10.0"
  },
  "orig_nbformat": 4
 },
 "nbformat": 4,
 "nbformat_minor": 2
}
